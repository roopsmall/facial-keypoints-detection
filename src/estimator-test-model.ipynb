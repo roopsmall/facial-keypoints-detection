{
 "cells": [
  {
   "cell_type": "code",
   "execution_count": 1,
   "metadata": {
    "collapsed": true,
    "deletable": true,
    "editable": true
   },
   "outputs": [],
   "source": [
    "import pandas as pd\n",
    "import numpy as np\n",
    "import tensorflow as tf\n",
    "from tensorflow.contrib.learn.python.learn.estimators import model_fn"
   ]
  },
  {
   "cell_type": "code",
   "execution_count": 2,
   "metadata": {
    "collapsed": false,
    "deletable": true,
    "editable": true
   },
   "outputs": [],
   "source": [
    "# read in some of the data\n",
    "df = pd.read_csv('../data/facial keypoints training.csv', nrows=5000)"
   ]
  },
  {
   "cell_type": "code",
   "execution_count": 3,
   "metadata": {
    "collapsed": false,
    "deletable": true,
    "editable": true
   },
   "outputs": [
    {
     "name": "stdout",
     "output_type": "stream",
     "text": [
      "   left_eye_center_x  left_eye_center_y\n",
      "0               66.0               39.0\n",
      "1               64.0               35.0\n",
      "2               65.0               35.0\n",
      "3               65.0               37.0\n",
      "4               67.0               40.0\n"
     ]
    }
   ],
   "source": [
    "df = df[['left_eye_center_x', 'left_eye_center_y','Image']]\n",
    "# for now only train on the left eye center\n",
    "df = df[df['left_eye_center_x'].notnull() & df['left_eye_center_y'].notnull()]\n",
    "# round the left eye x, y coordinates to integers (could multiply by powers of ten to get higher position resolution)\n",
    "df[['left_eye_center_x', 'left_eye_center_y']] = df[['left_eye_center_x', 'left_eye_center_y']].round(0)\n",
    "print(df[['left_eye_center_x', 'left_eye_center_y']].head())"
   ]
  },
  {
   "cell_type": "code",
   "execution_count": 4,
   "metadata": {
    "collapsed": false,
    "deletable": true,
    "editable": true
   },
   "outputs": [],
   "source": [
    "# encode. must give column names if numeric\n",
    "left_eye_x = pd.get_dummies(df['left_eye_center_x'], columns=['left_eye_center_x'])\n",
    "left_eye_y = pd.get_dummies(df['left_eye_center_y'], columns=['left_eye_center_y'])\n",
    "# convert faces to dataframe\n",
    "faces = df.Image.apply(lambda x: pd.Series(np.fromstring(x, dtype=np.float32, sep=' ')))"
   ]
  },
  {
   "cell_type": "code",
   "execution_count": 5,
   "metadata": {
    "collapsed": false,
    "deletable": true,
    "editable": true
   },
   "outputs": [
    {
     "name": "stdout",
     "output_type": "stream",
     "text": [
      "    0      1      2      3      4      5      6      7      8      9     \\\n",
      "0  238.0  236.0  237.0  238.0  240.0  240.0  239.0  241.0  241.0  243.0   \n",
      "1  219.0  215.0  204.0  196.0  204.0  211.0  212.0  200.0  180.0  168.0   \n",
      "2  144.0  142.0  159.0  180.0  188.0  188.0  184.0  180.0  167.0  132.0   \n",
      "3  193.0  192.0  193.0  194.0  194.0  194.0  193.0  192.0  168.0  111.0   \n",
      "4  147.0  148.0  160.0  196.0  215.0  214.0  216.0  217.0  219.0  220.0   \n",
      "\n",
      "   ...    9206  9207  9208  9209  9210  9211  9212   9213   9214   9215  \n",
      "0  ...    33.0  29.0  30.0  34.0  39.0  49.0  62.0   70.0   75.0   90.0  \n",
      "1  ...     1.0   1.0   1.0   1.0   1.0   1.0   1.0    1.0    1.0    1.0  \n",
      "2  ...    64.0  60.0  56.0  61.0  70.0  69.0  71.0   78.0   78.0   77.0  \n",
      "3  ...     1.0   1.0   1.0   1.0   1.0   1.0   1.0    1.0    1.0    1.0  \n",
      "4  ...    33.0  34.0  37.0  37.0  43.0  46.0  83.0  140.0  170.0  176.0  \n",
      "\n",
      "[5 rows x 9216 columns]\n",
      "(4990, 9216)\n"
     ]
    }
   ],
   "source": [
    "# see the results\n",
    "print(faces.head())\n",
    "print(faces.shape)"
   ]
  },
  {
   "cell_type": "code",
   "execution_count": 6,
   "metadata": {
    "collapsed": false,
    "deletable": true,
    "editable": true
   },
   "outputs": [
    {
     "name": "stdout",
     "output_type": "stream",
     "text": [
      "(4990, 9216)\n",
      "(4990, 48)\n"
     ]
    }
   ],
   "source": [
    "# free space\n",
    "del df['Image']\n",
    "faces = faces.as_matrix()\n",
    "left_eye_x = left_eye_x.as_matrix()\n",
    "num_labels = left_eye_x.shape[1]\n",
    "image_size = 96\n",
    "\n",
    "# have a look\n",
    "print(faces.shape)\n",
    "print(left_eye_x.shape)"
   ]
  },
  {
   "cell_type": "code",
   "execution_count": 7,
   "metadata": {
    "collapsed": true,
    "deletable": true,
    "editable": true
   },
   "outputs": [],
   "source": [
    "def model(features, targets, mode, params):\n",
    "    '''model function for estimator'''\n",
    "    \n",
    "    weights = tf.Variable(tf.truncated_normal([image_size*image_size, num_labels]))\n",
    "    biases = tf.Variable(tf.zeros([num_labels]))\n",
    "        \n",
    "    # loss\n",
    "    logits = tf.matmul(features, weights) + biases\n",
    "    loss = tf.reduce_mean(tf.nn.softmax_cross_entropy_with_logits(labels=targets, logits=logits))\n",
    "    \n",
    "    # predictions\n",
    "    train_prediction = tf.nn.softmax(logits)\n",
    "\n",
    "    # saver\n",
    "    saver = tf.train.Saver(tf.global_variables())\n",
    "    \n",
    "    #predictions_dict = {\"x-coordinate\": logits.argmax(axis=1)}\n",
    "    predictions_dict = {\"x-coordinate\": logits}\n",
    "    \n",
    "    train_op = tf.contrib.layers.optimize_loss(\n",
    "        loss=loss,\n",
    "        global_step=tf.contrib.framework.get_global_step(),\n",
    "        learning_rate=params['learning_rate'],\n",
    "        optimizer='SGD')\n",
    "\n",
    "    return model_fn.ModelFnOps(\n",
    "        mode=mode,\n",
    "        predictions=predictions_dict,\n",
    "        loss=loss,\n",
    "        train_op=train_op)"
   ]
  },
  {
   "cell_type": "code",
   "execution_count": 16,
   "metadata": {
    "collapsed": false,
    "deletable": true,
    "editable": true
   },
   "outputs": [
    {
     "name": "stdout",
     "output_type": "stream",
     "text": [
      "INFO:tensorflow:Using default config.\n",
      "INFO:tensorflow:Using config: {'_task_id': 0, '_tf_config': gpu_options {\n",
      "  per_process_gpu_memory_fraction: 1.0\n",
      "}\n",
      ", '_keep_checkpoint_every_n_hours': 10000, '_keep_checkpoint_max': 5, '_save_checkpoints_steps': None, '_tf_random_seed': None, '_num_ps_replicas': 0, '_model_dir': None, '_task_type': None, '_cluster_spec': <tensorflow.python.training.server_lib.ClusterSpec object at 0x7fe71fc25160>, '_environment': 'local', '_evaluation_master': '', '_save_summary_steps': 100, '_num_worker_replicas': 0, '_master': '', '_save_checkpoints_secs': 600, '_is_chief': True}\n",
      "WARNING:tensorflow:Using temporary folder as model directory: /tmp/tmptm6kvpfk\n"
     ]
    }
   ],
   "source": [
    "nn = tf.contrib.learn.Estimator(model_fn=model, params={'learning_rate':0.5})"
   ]
  },
  {
   "cell_type": "code",
   "execution_count": 17,
   "metadata": {
    "collapsed": false,
    "deletable": true,
    "editable": true
   },
   "outputs": [
    {
     "name": "stdout",
     "output_type": "stream",
     "text": [
      "WARNING:tensorflow:From <ipython-input-17-ce8ddc57ee3d>:1: calling BaseEstimator.fit (from tensorflow.contrib.learn.python.learn.estimators.estimator) with x is deprecated and will be removed after 2016-12-01.\n",
      "Instructions for updating:\n",
      "Estimator is decoupled from Scikit Learn interface by moving into\n",
      "separate class SKCompat. Arguments x, y and batch_size are only\n",
      "available in the SKCompat class, Estimator will only accept input_fn.\n",
      "Example conversion:\n",
      "  est = Estimator(...) -> est = SKCompat(Estimator(...))\n",
      "WARNING:tensorflow:From <ipython-input-17-ce8ddc57ee3d>:1: calling BaseEstimator.fit (from tensorflow.contrib.learn.python.learn.estimators.estimator) with y is deprecated and will be removed after 2016-12-01.\n",
      "Instructions for updating:\n",
      "Estimator is decoupled from Scikit Learn interface by moving into\n",
      "separate class SKCompat. Arguments x, y and batch_size are only\n",
      "available in the SKCompat class, Estimator will only accept input_fn.\n",
      "Example conversion:\n",
      "  est = Estimator(...) -> est = SKCompat(Estimator(...))\n",
      "INFO:tensorflow:Create CheckpointSaverHook.\n"
     ]
    },
    {
     "name": "stderr",
     "output_type": "stream",
     "text": [
      "/home/boot/.local/lib/python3.5/site-packages/tensorflow/python/util/deprecation.py:248: FutureWarning: comparison to `None` will result in an elementwise object comparison in the future.\n",
      "  equality = a == b\n"
     ]
    },
    {
     "name": "stdout",
     "output_type": "stream",
     "text": [
      "INFO:tensorflow:Saving checkpoints for 1 into /tmp/tmptm6kvpfk/model.ckpt.\n",
      "INFO:tensorflow:step = 1, loss = 23007.4\n",
      "INFO:tensorflow:Saving checkpoints for 20 into /tmp/tmptm6kvpfk/model.ckpt.\n",
      "INFO:tensorflow:Loss for final step: 2.94713e+07.\n"
     ]
    },
    {
     "data": {
      "text/plain": [
       "Estimator(params={'learning_rate': 0.5})"
      ]
     },
     "execution_count": 17,
     "metadata": {},
     "output_type": "execute_result"
    }
   ],
   "source": [
    "nn.fit(x=faces, y=left_eye_x, steps=100)"
   ]
  },
  {
   "cell_type": "code",
   "execution_count": 18,
   "metadata": {
    "collapsed": false,
    "deletable": true,
    "editable": true
   },
   "outputs": [
    {
     "name": "stdout",
     "output_type": "stream",
     "text": [
      "WARNING:tensorflow:From <ipython-input-18-dca1fff4745c>:1: calling BaseEstimator.evaluate (from tensorflow.contrib.learn.python.learn.estimators.estimator) with x is deprecated and will be removed after 2016-12-01.\n",
      "Instructions for updating:\n",
      "Estimator is decoupled from Scikit Learn interface by moving into\n",
      "separate class SKCompat. Arguments x, y and batch_size are only\n",
      "available in the SKCompat class, Estimator will only accept input_fn.\n",
      "Example conversion:\n",
      "  est = Estimator(...) -> est = SKCompat(Estimator(...))\n",
      "WARNING:tensorflow:From <ipython-input-18-dca1fff4745c>:1: calling BaseEstimator.evaluate (from tensorflow.contrib.learn.python.learn.estimators.estimator) with y is deprecated and will be removed after 2016-12-01.\n",
      "Instructions for updating:\n",
      "Estimator is decoupled from Scikit Learn interface by moving into\n",
      "separate class SKCompat. Arguments x, y and batch_size are only\n",
      "available in the SKCompat class, Estimator will only accept input_fn.\n",
      "Example conversion:\n",
      "  est = Estimator(...) -> est = SKCompat(Estimator(...))\n",
      "INFO:tensorflow:Starting evaluation at 2017-05-13-12:45:07\n",
      "INFO:tensorflow:Restoring parameters from /tmp/tmptm6kvpfk/model.ckpt-20\n"
     ]
    },
    {
     "name": "stderr",
     "output_type": "stream",
     "text": [
      "/home/boot/.local/lib/python3.5/site-packages/tensorflow/python/util/deprecation.py:248: FutureWarning: comparison to `None` will result in an elementwise object comparison in the future.\n",
      "  equality = a == b\n"
     ]
    },
    {
     "name": "stdout",
     "output_type": "stream",
     "text": [
      "INFO:tensorflow:Evaluation [1/1]\n",
      "INFO:tensorflow:Finished evaluation at 2017-05-13-12:45:08\n",
      "INFO:tensorflow:Saving dict for global step 20: global_step = 20, loss = 2.84236e+07\n",
      "WARNING:tensorflow:Skipping summary for global_step, must be a float or np.float32.\n"
     ]
    },
    {
     "data": {
      "text/plain": [
       "{'global_step': 20, 'loss': 28423558.0}"
      ]
     },
     "execution_count": 18,
     "metadata": {},
     "output_type": "execute_result"
    }
   ],
   "source": [
    "nn.evaluate(x=faces, y=left_eye_x, steps=1)"
   ]
  },
  {
   "cell_type": "code",
   "execution_count": 19,
   "metadata": {
    "collapsed": false,
    "deletable": true,
    "editable": true
   },
   "outputs": [
    {
     "name": "stdout",
     "output_type": "stream",
     "text": [
      "WARNING:tensorflow:From <ipython-input-19-f449119660bb>:1: calling BaseEstimator.predict (from tensorflow.contrib.learn.python.learn.estimators.estimator) with x is deprecated and will be removed after 2016-12-01.\n",
      "Instructions for updating:\n",
      "Estimator is decoupled from Scikit Learn interface by moving into\n",
      "separate class SKCompat. Arguments x, y and batch_size are only\n",
      "available in the SKCompat class, Estimator will only accept input_fn.\n",
      "Example conversion:\n",
      "  est = Estimator(...) -> est = SKCompat(Estimator(...))\n",
      "INFO:tensorflow:Restoring parameters from /tmp/tmptm6kvpfk/model.ckpt-20\n"
     ]
    },
    {
     "name": "stderr",
     "output_type": "stream",
     "text": [
      "/home/boot/.local/lib/python3.5/site-packages/tensorflow/python/util/deprecation.py:248: FutureWarning: comparison to `None` will result in an elementwise object comparison in the future.\n",
      "  equality = a == b\n"
     ]
    },
    {
     "name": "stdout",
     "output_type": "stream",
     "text": [
      "Prediction 1: 32\n",
      "Prediction 2: 32\n",
      "Prediction 3: 32\n",
      "Prediction 4: 32\n",
      "Prediction 5: 32\n",
      "Prediction 6: 32\n",
      "Prediction 7: 32\n",
      "Prediction 8: 32\n",
      "Prediction 9: 32\n",
      "Prediction 10: 32\n"
     ]
    }
   ],
   "source": [
    "predictions = nn.predict(x=faces[:10,:], as_iterable=True)\n",
    "for i, p in enumerate(predictions):\n",
    "  print(\"Prediction %s: %s\" % (i + 1, p['x-coordinate'].argmax()))"
   ]
  },
  {
   "cell_type": "code",
   "execution_count": null,
   "metadata": {
    "collapsed": true,
    "deletable": true,
    "editable": true
   },
   "outputs": [],
   "source": []
  }
 ],
 "metadata": {
  "kernelspec": {
   "display_name": "Python 3",
   "language": "python",
   "name": "python3"
  },
  "language_info": {
   "codemirror_mode": {
    "name": "ipython",
    "version": 3
   },
   "file_extension": ".py",
   "mimetype": "text/x-python",
   "name": "python",
   "nbconvert_exporter": "python",
   "pygments_lexer": "ipython3",
   "version": "3.5.2"
  }
 },
 "nbformat": 4,
 "nbformat_minor": 2
}
