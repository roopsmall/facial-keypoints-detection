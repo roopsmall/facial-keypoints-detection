{
 "cells": [
  {
   "cell_type": "code",
   "execution_count": 1,
   "metadata": {
    "collapsed": true,
    "deletable": true,
    "editable": true
   },
   "outputs": [],
   "source": [
    "import pandas as pd\n",
    "import numpy as np\n",
    "import tensorflow as tf"
   ]
  },
  {
   "cell_type": "code",
   "execution_count": 2,
   "metadata": {
    "collapsed": false,
    "deletable": true,
    "editable": true
   },
   "outputs": [],
   "source": [
    "# read in some of the data\n",
    "df = pd.read_csv('../data/facial keypoints training.csv', nrows=5000)"
   ]
  },
  {
   "cell_type": "code",
   "execution_count": 3,
   "metadata": {
    "collapsed": false,
    "deletable": true,
    "editable": true
   },
   "outputs": [
    {
     "name": "stdout",
     "output_type": "stream",
     "text": [
      "9216\n",
      "9216, ['left_eye_center_x', 'left_eye_center_y', 'right_eye_center_x', 'right_eye_center_y', 'left_eye_inner_corner_x', 'left_eye_inner_corner_y', 'left_eye_outer_corner_x', 'left_eye_outer_corner_y', 'right_eye_inner_corner_x', 'right_eye_inner_corner_y', 'right_eye_outer_corner_x', 'right_eye_outer_corner_y', 'left_eyebrow_inner_end_x', 'left_eyebrow_inner_end_y', 'left_eyebrow_outer_end_x', 'left_eyebrow_outer_end_y', 'right_eyebrow_inner_end_x', 'right_eyebrow_inner_end_y', 'right_eyebrow_outer_end_x', 'right_eyebrow_outer_end_y', 'nose_tip_x', 'nose_tip_y', 'mouth_left_corner_x', 'mouth_left_corner_y', 'mouth_right_corner_x', 'mouth_right_corner_y', 'mouth_center_top_lip_x', 'mouth_center_top_lip_y', 'mouth_center_bottom_lip_x', 'mouth_center_bottom_lip_y', 'Image']\n"
     ]
    }
   ],
   "source": [
    "# check that the image is really 96*96\n",
    "print(len(np.fromstring(df.Image.iloc[0], dtype=int, sep=' ')))\n",
    "print('{}, {}'.format(96**2, df.columns.tolist()))"
   ]
  },
  {
   "cell_type": "code",
   "execution_count": 4,
   "metadata": {
    "collapsed": true,
    "deletable": true,
    "editable": true
   },
   "outputs": [],
   "source": [
    "df = df[['left_eye_center_x', 'left_eye_center_y','Image']]\n",
    "# for now only train on the left eye center\n",
    "df = df[df['left_eye_center_x'].notnull() & df['left_eye_center_y'].notnull()]"
   ]
  },
  {
   "cell_type": "code",
   "execution_count": 5,
   "metadata": {
    "collapsed": false,
    "deletable": true,
    "editable": true
   },
   "outputs": [
    {
     "name": "stdout",
     "output_type": "stream",
     "text": [
      "(4990, 3)\n"
     ]
    }
   ],
   "source": [
    "# check how much data is left of the initial blob\n",
    "print(df.shape)"
   ]
  },
  {
   "cell_type": "code",
   "execution_count": 6,
   "metadata": {
    "collapsed": false,
    "deletable": true,
    "editable": true
   },
   "outputs": [
    {
     "name": "stdout",
     "output_type": "stream",
     "text": [
      "   left_eye_center_x  left_eye_center_y\n",
      "0               66.0               39.0\n",
      "1               64.0               35.0\n",
      "2               65.0               35.0\n",
      "3               65.0               37.0\n",
      "4               67.0               40.0\n"
     ]
    }
   ],
   "source": [
    "# round the left eye x, y coordinates to integers (could multiply by powers of ten to get higher position resolution)\n",
    "df[['left_eye_center_x', 'left_eye_center_y']] = df[['left_eye_center_x', 'left_eye_center_y']].round(0)\n",
    "print(df[['left_eye_center_x', 'left_eye_center_y']].head())"
   ]
  },
  {
   "cell_type": "code",
   "execution_count": 7,
   "metadata": {
    "collapsed": false,
    "deletable": true,
    "editable": true
   },
   "outputs": [],
   "source": [
    "# encode. must give column names if numeric\n",
    "left_eye_x = pd.get_dummies(df['left_eye_center_x'], columns=['left_eye_center_x'])\n",
    "left_eye_y = pd.get_dummies(df['left_eye_center_y'], columns=['left_eye_center_y'])"
   ]
  },
  {
   "cell_type": "code",
   "execution_count": 8,
   "metadata": {
    "collapsed": false,
    "deletable": true,
    "editable": true
   },
   "outputs": [],
   "source": [
    "# convert faces to dataframe\n",
    "faces = df.Image.apply(lambda x: pd.Series(np.fromstring(x, dtype=np.float32, sep=' ')))"
   ]
  },
  {
   "cell_type": "code",
   "execution_count": 9,
   "metadata": {
    "collapsed": false,
    "deletable": true,
    "editable": true
   },
   "outputs": [
    {
     "name": "stdout",
     "output_type": "stream",
     "text": [
      "    0      1      2      3      4      5      6      7      8      9     \\\n",
      "0  238.0  236.0  237.0  238.0  240.0  240.0  239.0  241.0  241.0  243.0   \n",
      "1  219.0  215.0  204.0  196.0  204.0  211.0  212.0  200.0  180.0  168.0   \n",
      "2  144.0  142.0  159.0  180.0  188.0  188.0  184.0  180.0  167.0  132.0   \n",
      "3  193.0  192.0  193.0  194.0  194.0  194.0  193.0  192.0  168.0  111.0   \n",
      "4  147.0  148.0  160.0  196.0  215.0  214.0  216.0  217.0  219.0  220.0   \n",
      "\n",
      "   ...    9206  9207  9208  9209  9210  9211  9212   9213   9214   9215  \n",
      "0  ...    33.0  29.0  30.0  34.0  39.0  49.0  62.0   70.0   75.0   90.0  \n",
      "1  ...     1.0   1.0   1.0   1.0   1.0   1.0   1.0    1.0    1.0    1.0  \n",
      "2  ...    64.0  60.0  56.0  61.0  70.0  69.0  71.0   78.0   78.0   77.0  \n",
      "3  ...     1.0   1.0   1.0   1.0   1.0   1.0   1.0    1.0    1.0    1.0  \n",
      "4  ...    33.0  34.0  37.0  37.0  43.0  46.0  83.0  140.0  170.0  176.0  \n",
      "\n",
      "[5 rows x 9216 columns]\n",
      "(4990, 9216)\n"
     ]
    }
   ],
   "source": [
    "# see the results\n",
    "print(faces.head())\n",
    "print(faces.shape)"
   ]
  },
  {
   "cell_type": "code",
   "execution_count": 10,
   "metadata": {
    "collapsed": false,
    "deletable": true,
    "editable": true
   },
   "outputs": [
    {
     "name": "stdout",
     "output_type": "stream",
     "text": [
      "(4990, 9216)\n",
      "(4990, 48)\n"
     ]
    }
   ],
   "source": [
    "# free space\n",
    "del df['Image']\n",
    "faces = faces.as_matrix()\n",
    "left_eye_x = left_eye_x.as_matrix()\n",
    "print(faces.shape)\n",
    "print(left_eye_x.shape)"
   ]
  },
  {
   "cell_type": "code",
   "execution_count": 11,
   "metadata": {
    "collapsed": false,
    "deletable": true,
    "editable": true
   },
   "outputs": [
    {
     "name": "stdout",
     "output_type": "stream",
     "text": [
      "<class 'numpy.float32'>\n"
     ]
    }
   ],
   "source": [
    "# tf doesn't appear to like cross-type operations. keep everything float32\n",
    "print(type(faces[0,0]))"
   ]
  },
  {
   "cell_type": "code",
   "execution_count": 13,
   "metadata": {
    "collapsed": false,
    "deletable": true,
    "editable": true
   },
   "outputs": [],
   "source": [
    "num_labels = left_eye_x.shape[1]\n",
    "image_size = 96\n",
    "\n",
    "graph = tf.Graph()\n",
    "with graph.as_default():\n",
    "    \n",
    "    # graph\n",
    "    face = tf.placeholder(tf.float32, [None, image_size**2])\n",
    "    label = tf.placeholder(tf.float32, [None, 48])\n",
    "    \n",
    "    weights = tf.Variable(tf.truncated_normal([image_size*image_size, num_labels]))\n",
    "    biases = tf.Variable(tf.zeros([num_labels]))\n",
    "    \n",
    "    #print('{},{}'.format(type(train_dataset), type(weights)))\n",
    "    \n",
    "    # loss\n",
    "    logits = tf.matmul(face, weights) + biases\n",
    "    loss = tf.reduce_mean(tf.nn.softmax_cross_entropy_with_logits(labels=label, logits=logits))\n",
    "    \n",
    "    # add to export graph collection\n",
    "    tf.add_to_collection('logits', logits)\n",
    "    \n",
    "    # optimizer\n",
    "    optimizer = tf.train.GradientDescentOptimizer(0.5).minimize(loss)\n",
    "    \n",
    "    # predictions\n",
    "    train_prediction = tf.nn.softmax(logits)"
   ]
  },
  {
   "cell_type": "code",
   "execution_count": 17,
   "metadata": {
    "collapsed": false,
    "deletable": true,
    "editable": true
   },
   "outputs": [
    {
     "name": "stdout",
     "output_type": "stream",
     "text": [
      "Loss at step 0: 30303.38671875\n",
      "Training accuracy: 0.1%\n",
      "saved model to left-eye-test-model.meta\n",
      "Loss at step 50: 21171542.0\n",
      "Training accuracy: 8.3%\n",
      "saved model to left-eye-test-model.meta\n",
      "Loss at step 100: 28318582.0\n",
      "Training accuracy: 1.9%\n",
      "saved model to left-eye-test-model.meta\n",
      "Loss at step 150: 24202570.0\n",
      "Training accuracy: 19.5%\n",
      "saved model to left-eye-test-model.meta\n",
      "Loss at step 200: 28739388.0\n",
      "Training accuracy: 13.6%\n",
      "saved model to left-eye-test-model.meta\n",
      "Loss at step 250: 19681742.0\n",
      "Training accuracy: 21.2%\n",
      "saved model to left-eye-test-model.meta\n",
      "Loss at step 300: 19938856.0\n",
      "Training accuracy: 19.5%\n",
      "saved model to left-eye-test-model.meta\n",
      "Loss at step 350: 29377148.0\n",
      "Training accuracy: 8.5%\n",
      "saved model to left-eye-test-model.meta\n",
      "Loss at step 400: 20592718.0\n",
      "Training accuracy: 10.3%\n",
      "saved model to left-eye-test-model.meta\n",
      "Loss at step 450: 25504884.0\n",
      "Training accuracy: 18.2%\n",
      "saved model to left-eye-test-model.meta\n",
      "Loss at step 500: 21748848.0\n",
      "Training accuracy: 20.1%\n",
      "saved model to left-eye-test-model.meta\n",
      "Loss at step 550: 19902308.0\n",
      "Training accuracy: 20.3%\n",
      "saved model to left-eye-test-model.meta\n",
      "Loss at step 600: 21075372.0\n",
      "Training accuracy: 19.6%\n",
      "saved model to left-eye-test-model.meta\n",
      "Loss at step 650: 30525182.0\n",
      "Training accuracy: 14.8%\n",
      "saved model to left-eye-test-model.meta\n",
      "Loss at step 700: 18866710.0\n",
      "Training accuracy: 17.7%\n",
      "saved model to left-eye-test-model.meta\n",
      "Loss at step 750: 16688698.0\n",
      "Training accuracy: 16.7%\n",
      "saved model to left-eye-test-model.meta\n",
      "Loss at step 800: 17648538.0\n",
      "Training accuracy: 18.2%\n",
      "saved model to left-eye-test-model.meta\n",
      "Loss at step 850: 23152060.0\n",
      "Training accuracy: 18.0%\n",
      "saved model to left-eye-test-model.meta\n",
      "Loss at step 900: 13744905.0\n",
      "Training accuracy: 20.2%\n",
      "saved model to left-eye-test-model.meta\n",
      "Loss at step 950: 15377029.0\n",
      "Training accuracy: 21.0%\n",
      "saved model to left-eye-test-model.meta\n"
     ]
    }
   ],
   "source": [
    "num_steps = 1000\n",
    "\n",
    "with tf.Session(graph=graph) as session:\n",
    "    \n",
    "    # initialise graph\n",
    "    tf.global_variables_initializer().run()\n",
    "    \n",
    "    # saver\n",
    "    saver = tf.train.Saver()\n",
    "    \n",
    "    # define what you mean by accuracy (to-do: add another measure)\n",
    "    def accuracy(predictions, labels):\n",
    "        return (100.0 * np.sum(np.argmax(predictions, 1) == np.argmax(labels, 1)) / predictions.shape[0])\n",
    "    \n",
    "    \n",
    "    # optimise the coefficients of the graph using the loss function and optimiser\n",
    "    for step in range(num_steps):\n",
    "        _, l, predictions = session.run([optimizer, loss, train_prediction], feed_dict={face:faces, label:left_eye_x})\n",
    "        \n",
    "        if (step % 50 == 0):\n",
    "            print('Loss at step {}: {}'.format(step, l))\n",
    "            print('Training accuracy: %.1f%%' % accuracy(predictions, left_eye_x))\n",
    "            try:\n",
    "                saver.save(session,'../models/left-eye-test-model')\n",
    "                saver.export_meta_graph('../models/left-eye-test-model' + '.meta')\n",
    "                print('saved model to left-eye-test-model.meta')\n",
    "            except Exception as e:\n",
    "                print(repr(e))\n",
    "                    "
   ]
  },
  {
   "cell_type": "code",
   "execution_count": null,
   "metadata": {
    "collapsed": true
   },
   "outputs": [],
   "source": []
  }
 ],
 "metadata": {
  "kernelspec": {
   "display_name": "Python 3",
   "language": "python",
   "name": "python3"
  },
  "language_info": {
   "codemirror_mode": {
    "name": "ipython",
    "version": 3
   },
   "file_extension": ".py",
   "mimetype": "text/x-python",
   "name": "python",
   "nbconvert_exporter": "python",
   "pygments_lexer": "ipython3",
   "version": "3.5.2"
  }
 },
 "nbformat": 4,
 "nbformat_minor": 2
}
