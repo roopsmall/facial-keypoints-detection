{
 "cells": [
  {
   "cell_type": "code",
   "execution_count": 1,
   "metadata": {
    "collapsed": true
   },
   "outputs": [],
   "source": [
    "import pandas as pd\n",
    "import numpy as np\n",
    "import tensorflow as tf"
   ]
  },
  {
   "cell_type": "code",
   "execution_count": 16,
   "metadata": {
    "collapsed": true
   },
   "outputs": [],
   "source": [
    "num_faces=5000"
   ]
  },
  {
   "cell_type": "code",
   "execution_count": 17,
   "metadata": {
    "collapsed": true
   },
   "outputs": [],
   "source": [
    "# read in faces and left eye classifcations\n",
    "df = pd.read_csv('../data/facial keypoints training.csv', nrows=num_faces)\n",
    "df = df[['left_eye_center_x','Image']]\n",
    "df = df[df['left_eye_center_x'].notnull()]\n",
    "df[['left_eye_center_x']] = df[['left_eye_center_x']].round(0)\n",
    "left_eye_x = pd.get_dummies(df['left_eye_center_x'], columns=['left_eye_center_x'])\n",
    "faces = df.Image.apply(lambda x: pd.Series(np.fromstring(x, dtype=np.float32, sep=' ')))\n",
    "# free space\n",
    "del df['Image']\n",
    "faces = faces.as_matrix()[:10,:]\n",
    "left_eye_x = left_eye_x.as_matrix()[:10,:]"
   ]
  },
  {
   "cell_type": "code",
   "execution_count": 18,
   "metadata": {
    "collapsed": false
   },
   "outputs": [
    {
     "name": "stdout",
     "output_type": "stream",
     "text": [
      "(10, 9216)\n",
      "(10, 48)\n"
     ]
    }
   ],
   "source": [
    "print(faces.shape)\n",
    "print(left_eye_x.shape)"
   ]
  },
  {
   "cell_type": "code",
   "execution_count": 19,
   "metadata": {
    "collapsed": false
   },
   "outputs": [],
   "source": [
    "image_size = 96\n",
    "num_labels = left_eye_x.shape[1]\n",
    "\n",
    "graph = tf.Graph()\n",
    "with graph.as_default():\n",
    "    \n",
    "    # graph\n",
    "    face = tf.placeholder(tf.float32, [None, image_size**2])\n",
    "    label = tf.placeholder(tf.float32, [None, 48])\n",
    "    \n",
    "    weights = tf.Variable(tf.truncated_normal([image_size*image_size, num_labels]))\n",
    "    biases = tf.Variable(tf.zeros([num_labels]))\n",
    "        \n",
    "    # loss\n",
    "    logits = tf.matmul(face, weights) + biases\n",
    "    loss = tf.reduce_mean(tf.nn.softmax_cross_entropy_with_logits(labels=label, logits=logits))\n",
    "    \n",
    "    # optimizer\n",
    "    optimizer = tf.train.GradientDescentOptimizer(0.5).minimize(loss)\n",
    "    \n",
    "    # predictions\n",
    "    train_prediction = tf.nn.softmax(logits)"
   ]
  },
  {
   "cell_type": "code",
   "execution_count": 31,
   "metadata": {
    "collapsed": false
   },
   "outputs": [
    {
     "name": "stdout",
     "output_type": "stream",
     "text": [
      "predicted x-coordinate:\t[32  0  0 32 32 32 17 32  0 32]\n",
      "actual x-coordinate:\t[31 29 30 30 32 35 29 32 31 29]\n"
     ]
    }
   ],
   "source": [
    "# tf.reset_default_graph()\n",
    "# import saved graph\n",
    "with tf.Session(graph=graph) as sess:\n",
    "    sess.run(tf.global_variables_initializer())\n",
    "    new_saver = tf.train.import_meta_graph('../models/left-eye-test-model.meta')\n",
    "    new_saver.restore(sess, tf.train.latest_checkpoint('../models/'))\n",
    "    logits = tf.get_collection('logits')[0]\n",
    "    predictions = sess.run(logits, feed_dict={face:faces, label:left_eye_x})\n",
    "    print('predicted x-coordinate:\\t{}'.format(predictions.argmax(axis=1)))\n",
    "    print('actual x-coordinate:\\t{}'.format(left_eye_x.argmax(axis=1)))"
   ]
  },
  {
   "cell_type": "code",
   "execution_count": null,
   "metadata": {
    "collapsed": true
   },
   "outputs": [],
   "source": []
  },
  {
   "cell_type": "code",
   "execution_count": null,
   "metadata": {
    "collapsed": true
   },
   "outputs": [],
   "source": []
  }
 ],
 "metadata": {
  "kernelspec": {
   "display_name": "Python 3",
   "language": "python",
   "name": "python3"
  },
  "language_info": {
   "codemirror_mode": {
    "name": "ipython",
    "version": 3
   },
   "file_extension": ".py",
   "mimetype": "text/x-python",
   "name": "python",
   "nbconvert_exporter": "python",
   "pygments_lexer": "ipython3",
   "version": "3.5.2"
  }
 },
 "nbformat": 4,
 "nbformat_minor": 2
}
